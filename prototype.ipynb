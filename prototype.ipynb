{
 "cells": [
  {
   "cell_type": "code",
   "execution_count": null,
   "id": "8ccfd9b1",
   "metadata": {},
   "outputs": [],
   "source": [
    "import numpy as np\n",
    "import matplotlib.pyplot as plt\n",
    "from matplotlib import animation\n",
    "from matplotlib.animation import PillowWriter"
   ]
  },
  {
   "cell_type": "code",
   "execution_count": null,
   "id": "538142a6",
   "metadata": {},
   "outputs": [],
   "source": [
    "fs = 44100\n",
    "Nx = 101\n",
    "Nt = 500000\n",
    "L = 0.7\n",
    "dx = L / (Nx - 1)\n",
    "f = 220\n",
    "c = 2 * L * f\n",
    "dt = 1 /fs\n",
    "l = 5e-5\n",
    "gamma = 5e-5"
   ]
  },
  {
   "cell_type": "code",
   "execution_count": null,
   "id": "08d72ad8",
   "metadata": {},
   "outputs": [],
   "source": [
    "ya = np.linspace(0, 1, 70)\n",
    "yb = np.linspace(1, 0, 31)\n",
    "y0 = np.concatenate([ya, yb])"
   ]
  },
  {
   "cell_type": "code",
   "execution_count": null,
   "id": "d7e94e1d",
   "metadata": {},
   "outputs": [],
   "source": [
    "plt.plot(y0)"
   ]
  },
  {
   "cell_type": "code",
   "execution_count": null,
   "id": "95622893",
   "metadata": {},
   "outputs": [],
   "source": [
    "solution = np.zeros((Nt, Nx))"
   ]
  },
  {
   "cell_type": "code",
   "execution_count": null,
   "id": "a7dc90c6",
   "metadata": {},
   "outputs": [],
   "source": [
    "solution[0] = y0\n",
    "solution[1] = y0"
   ]
  },
  {
   "cell_type": "code",
   "execution_count": null,
   "id": "90b0c26e",
   "metadata": {},
   "outputs": [],
   "source": [
    "def compute(d, time, length, dt, dx, l, gamma):\n",
    "    for t in range(1, time - 1):\n",
    "        for i in range(2, length - 2):\n",
    "            outer_fact = (1 / (c ** 2 * dt ** 2) + gamma / (2 * dt)) ** (-1)\n",
    "            p1 = 1 / dx ** 2 * (d[t][i-1] - 2 * d[t][i] + d[t][i+1])\n",
    "            p2 = 1 / (c ** 2 * dt ** 2) * (d[t-1][i] - 2 * d[t][i])\n",
    "            p3 = gamma / (2 * dt) * d[t-1][i]\n",
    "            p4 = l ** 2 / dx ** 4 * (d[t][i+2] - 4 * d[t][i+1] + 6 * d[t][i] - 4 * d[t][i-1] + d[t][i-2])\n",
    "            d[t+1][i] = outer_fact * (p1 - p2 + p3 - p4)\n",
    "    return d"
   ]
  },
  {
   "cell_type": "code",
   "execution_count": null,
   "id": "9401edeb",
   "metadata": {},
   "outputs": [],
   "source": [
    "solution = compute(solution, Nt, Nx, dt, dx, l, gamma)"
   ]
  },
  {
   "cell_type": "code",
   "execution_count": null,
   "id": "76aaf5ba",
   "metadata": {},
   "outputs": [],
   "source": [
    "plt.plot(solution[250])"
   ]
  },
  {
   "cell_type": "code",
   "execution_count": null,
   "id": "223a0a89",
   "metadata": {},
   "outputs": [],
   "source": [
    "def get_integral(n):\n",
    "    sin_arr = np.sin(n * np.pi * np.linspace(0, 1, 101))\n",
    "    h = []\n",
    "    for s in solution:\n",
    "        h.append(sin_arr*s)\n",
    "    return h"
   ]
  },
  {
   "cell_type": "code",
   "execution_count": null,
   "id": "54226c05",
   "metadata": {},
   "outputs": [],
   "source": [
    "harmonics = [get_integral(n) for n in range(10)]"
   ]
  },
  {
   "cell_type": "code",
   "execution_count": null,
   "id": "2e44d297",
   "metadata": {},
   "outputs": [],
   "source": [
    "x = []\n",
    "for h in harmonics:\n",
    "    print(sum(h))"
   ]
  },
  {
   "cell_type": "code",
   "execution_count": null,
   "id": "d608273c",
   "metadata": {},
   "outputs": [],
   "source": [
    "plt.plot(x)"
   ]
  }
 ],
 "metadata": {
  "kernelspec": {
   "display_name": "Python 3 (ipykernel)",
   "language": "python",
   "name": "python3"
  },
  "language_info": {
   "codemirror_mode": {
    "name": "ipython",
    "version": 3
   },
   "file_extension": ".py",
   "mimetype": "text/x-python",
   "name": "python",
   "nbconvert_exporter": "python",
   "pygments_lexer": "ipython3",
   "version": "3.9.13"
  }
 },
 "nbformat": 4,
 "nbformat_minor": 5
}
